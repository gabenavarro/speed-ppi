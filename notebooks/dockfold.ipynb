{
 "cells": [
  {
   "cell_type": "markdown",
   "metadata": {},
   "source": [
    "# Dockfold Modeling\n",
    "\n",
    "Dockfold is meant to be ran using GPU resources. You can only run this after the MSA analysis has been completed."
   ]
  },
  {
   "cell_type": "code",
   "execution_count": 1,
   "metadata": {},
   "outputs": [],
   "source": [
    "import sys\n",
    "sys.path.append('/app/')\n",
    "from src.utils.jobs import DockFoldJob\n",
    "from src.utils.dockfold import dockfold_from_msa_job\n",
    "from pandas import read_csv\n",
    "import logging\n",
    "\n",
    "# Set log level to info\n",
    "logging.getLogger().setLevel(logging.INFO)"
   ]
  },
  {
   "cell_type": "code",
   "execution_count": 2,
   "metadata": {},
   "outputs": [
    {
     "data": {
      "text/html": [
       "<div>\n",
       "<style scoped>\n",
       "    .dataframe tbody tr th:only-of-type {\n",
       "        vertical-align: middle;\n",
       "    }\n",
       "\n",
       "    .dataframe tbody tr th {\n",
       "        vertical-align: top;\n",
       "    }\n",
       "\n",
       "    .dataframe thead th {\n",
       "        text-align: right;\n",
       "    }\n",
       "</style>\n",
       "<table border=\"1\" class=\"dataframe\">\n",
       "  <thead>\n",
       "    <tr style=\"text-align: right;\">\n",
       "      <th></th>\n",
       "      <th>ID</th>\n",
       "      <th>sequence</th>\n",
       "    </tr>\n",
       "  </thead>\n",
       "  <tbody>\n",
       "    <tr>\n",
       "      <th>90</th>\n",
       "      <td>MAP3K1</td>\n",
       "      <td>MAAAAGNRASSSGFPGARATSPEAGGGGGALKASSAPAAAAGLLRE...</td>\n",
       "    </tr>\n",
       "  </tbody>\n",
       "</table>\n",
       "</div>"
      ],
      "text/plain": [
       "        ID                                           sequence\n",
       "90  MAP3K1  MAAAAGNRASSSGFPGARATSPEAGGGGGALKASSAPAAAAGLLRE..."
      ]
     },
     "execution_count": 2,
     "metadata": {},
     "output_type": "execute_result"
    }
   ],
   "source": [
    "# Read in ID SEQ table\n",
    "map3k1_df = read_csv('/app/data/string_db/id_seqs.csv')\n",
    "map3k1_df.query(\"ID == 'MAP3K1'\")"
   ]
  },
  {
   "cell_type": "code",
   "execution_count": 3,
   "metadata": {},
   "outputs": [],
   "source": [
    "# Create MSA lists\n",
    "msa_list_one = sorted(list(set(map3k1_df['ID'])))\n",
    "msa_list_two = ['MAP3K1']\n",
    "msa_path = '/opt/msa'\n",
    "pdb_dir = '/opt/pdb'\n",
    "parquet_dir = '/opt/pqs'"
   ]
  },
  {
   "cell_type": "code",
   "execution_count": 4,
   "metadata": {},
   "outputs": [
    {
     "name": "stdout",
     "output_type": "stream",
     "text": [
      "/opt/data\n",
      "20\n"
     ]
    }
   ],
   "source": [
    "dockfold_job = DockFoldJob(\n",
    "    output_dir='/app/data/string_db/map3k1',\n",
    "    msa_list_one=msa_list_one,\n",
    "    msa_list_two=msa_list_two,\n",
    "    msa_path=msa_path,\n",
    "    pdb_dir=pdb_dir,\n",
    "    parquet_dir=parquet_dir\n",
    ")\n",
    "\n",
    "print(dockfold_job.data_dir)\n",
    "print(dockfold_job.max_recycles)"
   ]
  },
  {
   "cell_type": "code",
   "execution_count": 5,
   "metadata": {},
   "outputs": [
    {
     "name": "stderr",
     "output_type": "stream",
     "text": [
      "/usr/local/lib/python3.8/dist-packages/Bio/Data/SCOPData.py:18: BiopythonDeprecationWarning: The 'Bio.Data.SCOPData' module will be deprecated in a future release of Biopython in favor of 'Bio.Data.PDBData.\n",
      "  warnings.warn(\n",
      "INFO:absl:MSA 0 size: 4738 sequences.\n",
      "INFO:absl:MSA 1 size: 121127 sequences.\n",
      "INFO:absl:Final (deduplicated) MSA size: 95069 sequences.\n",
      "INFO:absl:Total number of templates (NB: this can include bad templates and is later filtered to top 4): 0.\n"
     ]
    },
    {
     "name": "stdout",
     "output_type": "stream",
     "text": [
      "Evaluating pair MAP3K1-ABL1\n"
     ]
    },
    {
     "name": "stderr",
     "output_type": "stream",
     "text": [
      "2024-01-08 05:44:44.196987: W tensorflow/tsl/framework/cpu_allocator_impl.cc:83] Allocation of 22262117592 exceeds 10% of free system memory.\n"
     ]
    },
    {
     "ename": "",
     "evalue": "",
     "output_type": "error",
     "traceback": [
      "\u001b[1;31mThe Kernel crashed while executing code in the the current cell or a previous cell. Please review the code in the cell(s) to identify a possible cause of the failure. Click <a href='https://aka.ms/vscodeJupyterKernelCrash'>here</a> for more info. View Jupyter <a href='command:jupyter.viewOutput'>log</a> for further details."
     ]
    }
   ],
   "source": [
    "dockfold_from_msa_job(dockfold_job)"
   ]
  },
  {
   "cell_type": "code",
   "execution_count": null,
   "metadata": {},
   "outputs": [],
   "source": []
  }
 ],
 "metadata": {
  "kernelspec": {
   "display_name": "Python 3",
   "language": "python",
   "name": "python3"
  },
  "language_info": {
   "codemirror_mode": {
    "name": "ipython",
    "version": 3
   },
   "file_extension": ".py",
   "mimetype": "text/x-python",
   "name": "python",
   "nbconvert_exporter": "python",
   "pygments_lexer": "ipython3",
   "version": "3.8.10"
  }
 },
 "nbformat": 4,
 "nbformat_minor": 2
}
