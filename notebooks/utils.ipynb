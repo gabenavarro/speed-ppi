{
 "cells": [
  {
   "cell_type": "markdown",
   "metadata": {},
   "source": [
    "# Helper tasks to run analysis"
   ]
  },
  {
   "cell_type": "markdown",
   "metadata": {},
   "source": [
    "## Format StringDB Fasta"
   ]
  },
  {
   "cell_type": "code",
   "execution_count": 1,
   "metadata": {},
   "outputs": [],
   "source": [
    "import sys\n",
    "sys.path.append('/app/')\n",
    "from src.preprocess_fasta import read_fasta, write_fasta_file_from_fasta_df"
   ]
  },
  {
   "cell_type": "code",
   "execution_count": 5,
   "metadata": {},
   "outputs": [
    {
     "name": "stdout",
     "output_type": "stream",
     "text": [
      "51\n",
      "42\n"
     ]
    },
    {
     "data": {
      "text/html": [
       "<div>\n",
       "<style scoped>\n",
       "    .dataframe tbody tr th:only-of-type {\n",
       "        vertical-align: middle;\n",
       "    }\n",
       "\n",
       "    .dataframe tbody tr th {\n",
       "        vertical-align: top;\n",
       "    }\n",
       "\n",
       "    .dataframe thead th {\n",
       "        text-align: right;\n",
       "    }\n",
       "</style>\n",
       "<table border=\"1\" class=\"dataframe\">\n",
       "  <thead>\n",
       "    <tr style=\"text-align: right;\">\n",
       "      <th></th>\n",
       "      <th>ID</th>\n",
       "      <th>sequence</th>\n",
       "      <th>aa_length</th>\n",
       "    </tr>\n",
       "  </thead>\n",
       "  <tbody>\n",
       "    <tr>\n",
       "      <th>0</th>\n",
       "      <td>ADAM10</td>\n",
       "      <td>MVLLRVLILLLSWAAGMGGQYGNPLNKYIRHYEGLSYNVDSLHQKH...</td>\n",
       "      <td>748</td>\n",
       "    </tr>\n",
       "    <tr>\n",
       "      <th>2</th>\n",
       "      <td>ATP5PO</td>\n",
       "      <td>MAAPAVSGLSRQVRCFSTSVVRPFAKLVRPPVQVYGIEGRYATALY...</td>\n",
       "      <td>213</td>\n",
       "    </tr>\n",
       "    <tr>\n",
       "      <th>3</th>\n",
       "      <td>BAK1</td>\n",
       "      <td>MASGQGPGPPRQECGEPALPSASEEQVAQDTEEVFRSYVFYRHQQE...</td>\n",
       "      <td>211</td>\n",
       "    </tr>\n",
       "  </tbody>\n",
       "</table>\n",
       "</div>"
      ],
      "text/plain": [
       "       ID                                           sequence  aa_length\n",
       "0  ADAM10  MVLLRVLILLLSWAAGMGGQYGNPLNKYIRHYEGLSYNVDSLHQKH...        748\n",
       "2  ATP5PO  MAAPAVSGLSRQVRCFSTSVVRPFAKLVRPPVQVYGIEGRYATALY...        213\n",
       "3    BAK1  MASGQGPGPPRQECGEPALPSASEEQVAQDTEEVFRSYVFYRHQQE...        211"
      ]
     },
     "execution_count": 5,
     "metadata": {},
     "output_type": "execute_result"
    }
   ],
   "source": [
    "# Read fasta into DataFrame\n",
    "fasta_df = read_fasta(\"/app/data/string_db/ppif/ppif_protein_sequences.fasta\")\n",
    "\n",
    "# Change ID to gene name\n",
    "fasta_df['ID'] = fasta_df['ID'].apply(lambda x: x.split(\"(\")[-1].replace(\")\",\"\").strip())\n",
    "\n",
    "# Remove any large AA\n",
    "print(len(fasta_df))\n",
    "fasta_df['aa_length'] = fasta_df['sequence'].apply(lambda x: len(x))\n",
    "fasta_df = fasta_df.query(\"aa_length < 800\")\n",
    "print(len(fasta_df))\n",
    "\n",
    "# Preview\n",
    "fasta_df.head(3)"
   ]
  },
  {
   "cell_type": "code",
   "execution_count": 3,
   "metadata": {},
   "outputs": [],
   "source": [
    "# Write new fasta file with updated headers \n",
    "fasta_file = \"/app/data/string_db/ppif/network_sequences.fasta\"\n",
    "write_fasta_file_from_fasta_df(fasta_df,fasta_file)"
   ]
  },
  {
   "cell_type": "code",
   "execution_count": null,
   "metadata": {},
   "outputs": [],
   "source": []
  }
 ],
 "metadata": {
  "kernelspec": {
   "display_name": "Python 3",
   "language": "python",
   "name": "python3"
  },
  "language_info": {
   "codemirror_mode": {
    "name": "ipython",
    "version": 3
   },
   "file_extension": ".py",
   "mimetype": "text/x-python",
   "name": "python",
   "nbconvert_exporter": "python",
   "pygments_lexer": "ipython3",
   "version": "3.8.10"
  }
 },
 "nbformat": 4,
 "nbformat_minor": 2
}
